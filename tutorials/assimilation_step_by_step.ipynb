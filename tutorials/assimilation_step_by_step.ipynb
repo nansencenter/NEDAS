{
 "cells": [
  {
   "cell_type": "code",
   "execution_count": 1,
   "id": "0c082dc8",
   "metadata": {},
   "outputs": [],
   "source": [
    "import numpy as np\n",
    "from numba import njit\n",
    "import matplotlib.pyplot as plt\n",
    "from datetime import datetime, timedelta\n",
    "import time\n",
    "\n",
    "from config import Config\n",
    "c = Config(config_file=\"/tmp/vort2d_test/config.yml\")"
   ]
  },
  {
   "cell_type": "code",
   "execution_count": 2,
   "id": "5926d688",
   "metadata": {},
   "outputs": [],
   "source": [
    "c.time = '200101010300'"
   ]
  },
  {
   "cell_type": "code",
   "execution_count": 3,
   "id": "b358769a-dfca-4a2b-b91a-ba7ccf1e24e4",
   "metadata": {},
   "outputs": [],
   "source": [
    "from assim_tools.analysis_scheme import AnalysisScheme\n",
    "scheme = AnalysisScheme()"
   ]
  },
  {
   "cell_type": "code",
   "execution_count": 4,
   "id": "65768869",
   "metadata": {},
   "outputs": [],
   "source": [
    "state = scheme.get_state(c)"
   ]
  },
  {
   "cell_type": "code",
   "execution_count": 122,
   "id": "8dac3858-88ab-4862-854c-8033457898fd",
   "metadata": {},
   "outputs": [],
   "source": [
    "pid_mem = 0\n",
    "pid_rec = 0\n",
    "obs_seq = np.load(state.analysis_dir+'/obs_seq.{}.npy'.format(pid_rec), allow_pickle=True).item()\n",
    "obs_prior_seq = np.load(state.analysis_dir+'/obs_prior_seq.{}.{}.npy'.format(pid_mem, pid_rec), allow_pickle=True).item()"
   ]
  },
  {
   "cell_type": "code",
   "execution_count": null,
   "id": "3abd37ed-b784-455a-bbea-2d5b0ff11e1f",
   "metadata": {},
   "outputs": [],
   "source": [
    "##which field record to show?\n",
    "rec_id = [i for i,r in state.info['fields'].items() if r['name']=='velocity' and r['k']==0][0]\n",
    "\n",
    "##which member?\n",
    "mem_id = 0\n",
    "\n",
    "binfile = state.analysis_dir+'/prior_mean_state.bin'\n",
    "fld0 = state.read_field(binfile, c.mask, mem_id, rec_id)\n",
    "binfile = state.analysis_dir+'/post_mean_state.bin'\n",
    "fld1 = state.read_field(binfile, c.mask, mem_id, rec_id)\n",
    "\n",
    "fig, ax = plt.subplots(1, 1, figsize=(6,5))\n",
    "im = c.grid.plot_field(ax, (fld1-fld0)[0,...], vmin=-20, vmax=20, cmap='bwr')\n",
    "plt.colorbar(im)\n",
    "#c.grid.plot_land(ax, color='gray', linecolor='k')\n",
    "\n",
    "##obs network\n",
    "#ax.scatter(obs_seq[0]['x'], obs_seq[0]['y'], 5, color='k', marker='.')"
   ]
  },
  {
   "cell_type": "code",
   "execution_count": null,
   "id": "fd82cd9c",
   "metadata": {},
   "outputs": [],
   "source": []
  }
 ],
 "metadata": {
  "kernelspec": {
   "display_name": "nedas",
   "language": "python",
   "name": "python3"
  },
  "language_info": {
   "codemirror_mode": {
    "name": "ipython",
    "version": 3
   },
   "file_extension": ".py",
   "mimetype": "text/x-python",
   "name": "python",
   "nbconvert_exporter": "python",
   "pygments_lexer": "ipython3",
   "version": "3.11.10"
  }
 },
 "nbformat": 4,
 "nbformat_minor": 5
}
